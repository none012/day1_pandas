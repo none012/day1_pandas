{
 "cells": [
  {
   "cell_type": "code",
   "execution_count": 29,
   "id": "a59127a6",
   "metadata": {},
   "outputs": [],
   "source": [
    "import pandas as pd\n",
    "import numpy as np"
   ]
  },
  {
   "cell_type": "code",
   "execution_count": 30,
   "id": "d217681a",
   "metadata": {},
   "outputs": [],
   "source": [
    "arr=np.array([10,20,30,40,50])\n",
    "ser=pd.Series(arr)"
   ]
  },
  {
   "cell_type": "code",
   "execution_count": 31,
   "id": "a3ceadff",
   "metadata": {},
   "outputs": [
    {
     "data": {
      "text/plain": [
       "0    10\n",
       "1    20\n",
       "2    30\n",
       "3    40\n",
       "4    50\n",
       "dtype: int32"
      ]
     },
     "execution_count": 31,
     "metadata": {},
     "output_type": "execute_result"
    }
   ],
   "source": [
    "ser"
   ]
  },
  {
   "cell_type": "code",
   "execution_count": 32,
   "id": "0248ba33",
   "metadata": {},
   "outputs": [
    {
     "data": {
      "text/plain": [
       "array([10, 20, 30, 40, 50])"
      ]
     },
     "execution_count": 32,
     "metadata": {},
     "output_type": "execute_result"
    }
   ],
   "source": [
    "a=ser.values\n",
    "a"
   ]
  },
  {
   "cell_type": "code",
   "execution_count": 33,
   "id": "6ef5966b",
   "metadata": {},
   "outputs": [
    {
     "data": {
      "text/plain": [
       "array([10, 20, 30, 40, 50])"
      ]
     },
     "execution_count": 33,
     "metadata": {},
     "output_type": "execute_result"
    }
   ],
   "source": [
    "arr"
   ]
  },
  {
   "cell_type": "code",
   "execution_count": 34,
   "id": "674102e1",
   "metadata": {},
   "outputs": [
    {
     "data": {
      "text/plain": [
       "name    [hari, sai]\n",
       "age        [20, 24]\n",
       "dtype: object"
      ]
     },
     "execution_count": 34,
     "metadata": {},
     "output_type": "execute_result"
    }
   ],
   "source": [
    "my_dict={\n",
    "    'name':['hari','sai'],\n",
    "    'age':[20,24]\n",
    "}\n",
    "ser1=pd.Series(my_dict)\n",
    "ser1"
   ]
  },
  {
   "cell_type": "code",
   "execution_count": 35,
   "id": "3f321738",
   "metadata": {},
   "outputs": [
    {
     "data": {
      "text/plain": [
       "['hari', 'sai']"
      ]
     },
     "execution_count": 35,
     "metadata": {},
     "output_type": "execute_result"
    }
   ],
   "source": [
    "#get all names\n",
    "names=ser1['name']\n",
    "names"
   ]
  },
  {
   "cell_type": "code",
   "execution_count": 36,
   "id": "6e21b125",
   "metadata": {},
   "outputs": [
    {
     "data": {
      "text/plain": [
       "'sai'"
      ]
     },
     "execution_count": 36,
     "metadata": {},
     "output_type": "execute_result"
    }
   ],
   "source": [
    "\n",
    "names[1]"
   ]
  },
  {
   "cell_type": "code",
   "execution_count": 37,
   "id": "1d48eaf8",
   "metadata": {},
   "outputs": [
    {
     "name": "stdout",
     "output_type": "stream",
     "text": [
      "hari\n"
     ]
    }
   ],
   "source": [
    "names=ser1['name'][0]\n",
    "print(names)"
   ]
  },
  {
   "cell_type": "markdown",
   "id": "e22f3817",
   "metadata": {},
   "source": [
    "## data frames using csv(comma seperated values)"
   ]
  },
  {
   "cell_type": "code",
   "execution_count": 38,
   "id": "98533c5d",
   "metadata": {},
   "outputs": [
    {
     "data": {
      "text/html": [
       "<div>\n",
       "<style scoped>\n",
       "    .dataframe tbody tr th:only-of-type {\n",
       "        vertical-align: middle;\n",
       "    }\n",
       "\n",
       "    .dataframe tbody tr th {\n",
       "        vertical-align: top;\n",
       "    }\n",
       "\n",
       "    .dataframe thead th {\n",
       "        text-align: right;\n",
       "    }\n",
       "</style>\n",
       "<table border=\"1\" class=\"dataframe\">\n",
       "  <thead>\n",
       "    <tr style=\"text-align: right;\">\n",
       "      <th></th>\n",
       "      <th>'AGE'</th>\n",
       "      <th>'NAME'</th>\n",
       "      <th>'residence'</th>\n",
       "    </tr>\n",
       "  </thead>\n",
       "  <tbody>\n",
       "    <tr>\n",
       "      <th>0</th>\n",
       "      <td>10</td>\n",
       "      <td>'hari'</td>\n",
       "      <td>'guntur'</td>\n",
       "    </tr>\n",
       "    <tr>\n",
       "      <th>1</th>\n",
       "      <td>20</td>\n",
       "      <td>'guru'</td>\n",
       "      <td>'guntur'</td>\n",
       "    </tr>\n",
       "  </tbody>\n",
       "</table>\n",
       "</div>"
      ],
      "text/plain": [
       "   'AGE'  'NAME' 'residence'\n",
       "0     10  'hari'    'guntur'\n",
       "1     20  'guru'    'guntur'"
      ]
     },
     "execution_count": 38,
     "metadata": {},
     "output_type": "execute_result"
    }
   ],
   "source": [
    "import pandas as pd\n",
    "import xlrd\n",
    "df1=pd.read_csv('C:\\\\Users\\\\chava\\\\Desktop\\\\New folder\\\\python\\\\pandas\\\\test.csv')\n",
    "df1\n"
   ]
  },
  {
   "cell_type": "markdown",
   "id": "45df3a90",
   "metadata": {},
   "source": [
    "## reading data from excel"
   ]
  },
  {
   "cell_type": "code",
   "execution_count": 39,
   "id": "44bb39e3",
   "metadata": {},
   "outputs": [
    {
     "data": {
      "text/html": [
       "<div>\n",
       "<style scoped>\n",
       "    .dataframe tbody tr th:only-of-type {\n",
       "        vertical-align: middle;\n",
       "    }\n",
       "\n",
       "    .dataframe tbody tr th {\n",
       "        vertical-align: top;\n",
       "    }\n",
       "\n",
       "    .dataframe thead th {\n",
       "        text-align: right;\n",
       "    }\n",
       "</style>\n",
       "<table border=\"1\" class=\"dataframe\">\n",
       "  <thead>\n",
       "    <tr style=\"text-align: right;\">\n",
       "      <th></th>\n",
       "      <th>s.no</th>\n",
       "      <th>name</th>\n",
       "      <th>marks</th>\n",
       "    </tr>\n",
       "  </thead>\n",
       "  <tbody>\n",
       "    <tr>\n",
       "      <th>0</th>\n",
       "      <td>1</td>\n",
       "      <td>hari</td>\n",
       "      <td>20</td>\n",
       "    </tr>\n",
       "    <tr>\n",
       "      <th>1</th>\n",
       "      <td>2</td>\n",
       "      <td>sai</td>\n",
       "      <td>30</td>\n",
       "    </tr>\n",
       "    <tr>\n",
       "      <th>2</th>\n",
       "      <td>3</td>\n",
       "      <td>lol</td>\n",
       "      <td>40</td>\n",
       "    </tr>\n",
       "  </tbody>\n",
       "</table>\n",
       "</div>"
      ],
      "text/plain": [
       "   s.no  name  marks\n",
       "0     1  hari     20\n",
       "1     2   sai     30\n",
       "2     3   lol     40"
      ]
     },
     "execution_count": 39,
     "metadata": {},
     "output_type": "execute_result"
    }
   ],
   "source": [
    "df=pd.read_excel(r'C:\\\\Users\\chava\\\\Desktop\\New folder\\python\\\\pandas\\test.xlsx')\n",
    "df"
   ]
  },
  {
   "cell_type": "markdown",
   "id": "eea0463c",
   "metadata": {},
   "source": [
    "## reading data html file"
   ]
  },
  {
   "cell_type": "code",
   "execution_count": 40,
   "id": "a184a730",
   "metadata": {},
   "outputs": [
    {
     "data": {
      "text/html": [
       "<div>\n",
       "<style scoped>\n",
       "    .dataframe tbody tr th:only-of-type {\n",
       "        vertical-align: middle;\n",
       "    }\n",
       "\n",
       "    .dataframe tbody tr th {\n",
       "        vertical-align: top;\n",
       "    }\n",
       "\n",
       "    .dataframe thead th {\n",
       "        text-align: right;\n",
       "    }\n",
       "</style>\n",
       "<table border=\"1\" class=\"dataframe\">\n",
       "  <thead>\n",
       "    <tr style=\"text-align: right;\">\n",
       "      <th></th>\n",
       "      <th>S.NO</th>\n",
       "      <th>State</th>\n",
       "      <th>Capital</th>\n",
       "      <th>CM</th>\n",
       "      <th>Governor</th>\n",
       "    </tr>\n",
       "  </thead>\n",
       "  <tbody>\n",
       "    <tr>\n",
       "      <th>0</th>\n",
       "      <td>1</td>\n",
       "      <td>Andhra Pradesh</td>\n",
       "      <td>Amaravati</td>\n",
       "      <td>YS Jagan Mohan Reddy</td>\n",
       "      <td>Biswa Bhusan Harichandan</td>\n",
       "    </tr>\n",
       "    <tr>\n",
       "      <th>1</th>\n",
       "      <td>2</td>\n",
       "      <td>Arunachal Pradesh</td>\n",
       "      <td>Itanagar</td>\n",
       "      <td>Pema Khandu</td>\n",
       "      <td>B. D. Mishra</td>\n",
       "    </tr>\n",
       "    <tr>\n",
       "      <th>2</th>\n",
       "      <td>3</td>\n",
       "      <td>Assam</td>\n",
       "      <td>Dispur</td>\n",
       "      <td>Himanta Biswa Sarma</td>\n",
       "      <td>Jagdish Mukhi</td>\n",
       "    </tr>\n",
       "    <tr>\n",
       "      <th>3</th>\n",
       "      <td>4</td>\n",
       "      <td>Bihar</td>\n",
       "      <td>Patna</td>\n",
       "      <td>Nitish Kumar</td>\n",
       "      <td>Phagu Chauhan</td>\n",
       "    </tr>\n",
       "    <tr>\n",
       "      <th>4</th>\n",
       "      <td>5</td>\n",
       "      <td>Chhattisgarh</td>\n",
       "      <td>Raipur</td>\n",
       "      <td>Bhupesh Baghel</td>\n",
       "      <td>Sushri Anusuiya Uikey</td>\n",
       "    </tr>\n",
       "    <tr>\n",
       "      <th>5</th>\n",
       "      <td>6</td>\n",
       "      <td>Goa</td>\n",
       "      <td>Panaji</td>\n",
       "      <td>Pramod Sawant</td>\n",
       "      <td>P.S. Sreedharan Pillai</td>\n",
       "    </tr>\n",
       "    <tr>\n",
       "      <th>6</th>\n",
       "      <td>7</td>\n",
       "      <td>Gujarat</td>\n",
       "      <td>Gandhinagar</td>\n",
       "      <td>Bhupendra Patel</td>\n",
       "      <td>Acharya Dev Vrat</td>\n",
       "    </tr>\n",
       "    <tr>\n",
       "      <th>7</th>\n",
       "      <td>8</td>\n",
       "      <td>Haryana</td>\n",
       "      <td>Chandigarh</td>\n",
       "      <td>Manohar Lal</td>\n",
       "      <td>Bandaru Dattatraya</td>\n",
       "    </tr>\n",
       "    <tr>\n",
       "      <th>8</th>\n",
       "      <td>9</td>\n",
       "      <td>Himachal Pradesh</td>\n",
       "      <td>Shimla</td>\n",
       "      <td>Jairam Thakur</td>\n",
       "      <td>Rajendra Vishwanath Arlekar</td>\n",
       "    </tr>\n",
       "    <tr>\n",
       "      <th>9</th>\n",
       "      <td>10</td>\n",
       "      <td>Jharkhand</td>\n",
       "      <td>Ranchi</td>\n",
       "      <td>Hemant Soren</td>\n",
       "      <td>Ramesh Bais</td>\n",
       "    </tr>\n",
       "    <tr>\n",
       "      <th>10</th>\n",
       "      <td>11</td>\n",
       "      <td>Karnataka</td>\n",
       "      <td>Bengaluru</td>\n",
       "      <td>Basavaraj Bommai</td>\n",
       "      <td>Thaawarchand Gehlot</td>\n",
       "    </tr>\n",
       "    <tr>\n",
       "      <th>11</th>\n",
       "      <td>12</td>\n",
       "      <td>Kerala</td>\n",
       "      <td>Thiruvananthapuram</td>\n",
       "      <td>Pinarayi Vijayan</td>\n",
       "      <td>Arif Mohammed Khan</td>\n",
       "    </tr>\n",
       "    <tr>\n",
       "      <th>12</th>\n",
       "      <td>13</td>\n",
       "      <td>Madhya Pradesh</td>\n",
       "      <td>Bhopal</td>\n",
       "      <td>Shivraj Singh Chouhan</td>\n",
       "      <td>Mangubhai Chhaganbhai Patel</td>\n",
       "    </tr>\n",
       "    <tr>\n",
       "      <th>13</th>\n",
       "      <td>14</td>\n",
       "      <td>Maharashtra</td>\n",
       "      <td>Mumbai</td>\n",
       "      <td>Eknath Shinde</td>\n",
       "      <td>Bhagat Singh Koshyari</td>\n",
       "    </tr>\n",
       "    <tr>\n",
       "      <th>14</th>\n",
       "      <td>15</td>\n",
       "      <td>Manipur</td>\n",
       "      <td>Imphal</td>\n",
       "      <td>N. Biren Singh</td>\n",
       "      <td>La. Ganesan</td>\n",
       "    </tr>\n",
       "    <tr>\n",
       "      <th>15</th>\n",
       "      <td>16</td>\n",
       "      <td>Meghalaya</td>\n",
       "      <td>Shillong</td>\n",
       "      <td>Conrad Kongkal Sangma</td>\n",
       "      <td>Satya Pal Malik</td>\n",
       "    </tr>\n",
       "    <tr>\n",
       "      <th>16</th>\n",
       "      <td>17</td>\n",
       "      <td>Mizoram</td>\n",
       "      <td>Aizawl</td>\n",
       "      <td>Pu Zoramthanga</td>\n",
       "      <td>Kambhampati Haribabu</td>\n",
       "    </tr>\n",
       "    <tr>\n",
       "      <th>17</th>\n",
       "      <td>18</td>\n",
       "      <td>Nagaland</td>\n",
       "      <td>Kohima</td>\n",
       "      <td>Neiphiu Rio</td>\n",
       "      <td>Jagdish Mukhi</td>\n",
       "    </tr>\n",
       "    <tr>\n",
       "      <th>18</th>\n",
       "      <td>19</td>\n",
       "      <td>Odisha</td>\n",
       "      <td>Bhubaneswar</td>\n",
       "      <td>Naveen Patnaik</td>\n",
       "      <td>Ganeshi Lal</td>\n",
       "    </tr>\n",
       "    <tr>\n",
       "      <th>19</th>\n",
       "      <td>20</td>\n",
       "      <td>Punjab</td>\n",
       "      <td>Chandigarh</td>\n",
       "      <td>Bhagwant Singh Mann</td>\n",
       "      <td>Banwarilal Purohit</td>\n",
       "    </tr>\n",
       "    <tr>\n",
       "      <th>20</th>\n",
       "      <td>21</td>\n",
       "      <td>Rajasthan</td>\n",
       "      <td>Jaipur</td>\n",
       "      <td>Ashok Gehlot</td>\n",
       "      <td>Kalraj Mishra</td>\n",
       "    </tr>\n",
       "    <tr>\n",
       "      <th>21</th>\n",
       "      <td>22</td>\n",
       "      <td>Sikkim</td>\n",
       "      <td>Gangtok</td>\n",
       "      <td>PS Golay</td>\n",
       "      <td>Ganga Prasad</td>\n",
       "    </tr>\n",
       "    <tr>\n",
       "      <th>22</th>\n",
       "      <td>23</td>\n",
       "      <td>Tamil Nadu</td>\n",
       "      <td>Chennai</td>\n",
       "      <td>M. K. Stalin</td>\n",
       "      <td>R. N. Ravi</td>\n",
       "    </tr>\n",
       "    <tr>\n",
       "      <th>23</th>\n",
       "      <td>24</td>\n",
       "      <td>Telangana</td>\n",
       "      <td>Hyderabad</td>\n",
       "      <td>K Chandrasekhar Rao</td>\n",
       "      <td>Tamilisai Soundararajan</td>\n",
       "    </tr>\n",
       "    <tr>\n",
       "      <th>24</th>\n",
       "      <td>25</td>\n",
       "      <td>Tripura</td>\n",
       "      <td>Agartala</td>\n",
       "      <td>Biplab Kumar Deb</td>\n",
       "      <td>Satyadeo Narain Arya</td>\n",
       "    </tr>\n",
       "    <tr>\n",
       "      <th>25</th>\n",
       "      <td>26</td>\n",
       "      <td>Uttar Pradesh</td>\n",
       "      <td>Lucknow</td>\n",
       "      <td>Yogi Aditya Nath</td>\n",
       "      <td>Anandiben Patel</td>\n",
       "    </tr>\n",
       "    <tr>\n",
       "      <th>26</th>\n",
       "      <td>27</td>\n",
       "      <td>Uttarakhand</td>\n",
       "      <td>Dehradun</td>\n",
       "      <td>Pushkar Singh Dhami</td>\n",
       "      <td>Lt. Gen. Gurmit Singh</td>\n",
       "    </tr>\n",
       "    <tr>\n",
       "      <th>27</th>\n",
       "      <td>28</td>\n",
       "      <td>West Bengal</td>\n",
       "      <td>Kolkata</td>\n",
       "      <td>Mamata Banerjee</td>\n",
       "      <td>La. Ganesan</td>\n",
       "    </tr>\n",
       "  </tbody>\n",
       "</table>\n",
       "</div>"
      ],
      "text/plain": [
       "    S.NO              State             Capital                     CM  \\\n",
       "0      1     Andhra Pradesh           Amaravati   YS Jagan Mohan Reddy   \n",
       "1      2  Arunachal Pradesh            Itanagar            Pema Khandu   \n",
       "2      3              Assam              Dispur    Himanta Biswa Sarma   \n",
       "3      4              Bihar               Patna           Nitish Kumar   \n",
       "4      5       Chhattisgarh              Raipur         Bhupesh Baghel   \n",
       "5      6                Goa              Panaji          Pramod Sawant   \n",
       "6      7            Gujarat         Gandhinagar        Bhupendra Patel   \n",
       "7      8            Haryana          Chandigarh            Manohar Lal   \n",
       "8      9   Himachal Pradesh              Shimla          Jairam Thakur   \n",
       "9     10          Jharkhand              Ranchi           Hemant Soren   \n",
       "10    11          Karnataka           Bengaluru       Basavaraj Bommai   \n",
       "11    12             Kerala  Thiruvananthapuram       Pinarayi Vijayan   \n",
       "12    13     Madhya Pradesh              Bhopal  Shivraj Singh Chouhan   \n",
       "13    14        Maharashtra              Mumbai          Eknath Shinde   \n",
       "14    15            Manipur              Imphal         N. Biren Singh   \n",
       "15    16          Meghalaya            Shillong  Conrad Kongkal Sangma   \n",
       "16    17            Mizoram              Aizawl         Pu Zoramthanga   \n",
       "17    18           Nagaland              Kohima            Neiphiu Rio   \n",
       "18    19             Odisha         Bhubaneswar         Naveen Patnaik   \n",
       "19    20             Punjab          Chandigarh    Bhagwant Singh Mann   \n",
       "20    21          Rajasthan              Jaipur           Ashok Gehlot   \n",
       "21    22             Sikkim             Gangtok               PS Golay   \n",
       "22    23         Tamil Nadu             Chennai           M. K. Stalin   \n",
       "23    24          Telangana           Hyderabad    K Chandrasekhar Rao   \n",
       "24    25            Tripura            Agartala       Biplab Kumar Deb   \n",
       "25    26      Uttar Pradesh             Lucknow       Yogi Aditya Nath   \n",
       "26    27        Uttarakhand            Dehradun    Pushkar Singh Dhami   \n",
       "27    28        West Bengal             Kolkata        Mamata Banerjee   \n",
       "\n",
       "                       Governor  \n",
       "0      Biswa Bhusan Harichandan  \n",
       "1                  B. D. Mishra  \n",
       "2                 Jagdish Mukhi  \n",
       "3                 Phagu Chauhan  \n",
       "4         Sushri Anusuiya Uikey  \n",
       "5        P.S. Sreedharan Pillai  \n",
       "6              Acharya Dev Vrat  \n",
       "7            Bandaru Dattatraya  \n",
       "8   Rajendra Vishwanath Arlekar  \n",
       "9                   Ramesh Bais  \n",
       "10          Thaawarchand Gehlot  \n",
       "11           Arif Mohammed Khan  \n",
       "12  Mangubhai Chhaganbhai Patel  \n",
       "13        Bhagat Singh Koshyari  \n",
       "14                  La. Ganesan  \n",
       "15              Satya Pal Malik  \n",
       "16         Kambhampati Haribabu  \n",
       "17                Jagdish Mukhi  \n",
       "18                  Ganeshi Lal  \n",
       "19           Banwarilal Purohit  \n",
       "20                Kalraj Mishra  \n",
       "21                 Ganga Prasad  \n",
       "22                   R. N. Ravi  \n",
       "23      Tamilisai Soundararajan  \n",
       "24         Satyadeo Narain Arya  \n",
       "25              Anandiben Patel  \n",
       "26        Lt. Gen. Gurmit Singh  \n",
       "27                  La. Ganesan  "
      ]
     },
     "execution_count": 40,
     "metadata": {},
     "output_type": "execute_result"
    }
   ],
   "source": [
    "import pandas as pd\n",
    "df3=pd.read_html('https://currentaffairs.adda247.com/states-and-capitals/')\n",
    "df3[0]"
   ]
  },
  {
   "cell_type": "markdown",
   "id": "b10dffc1",
   "metadata": {},
   "source": [
    "## creating a data frame using dictionmary\n",
    "\n"
   ]
  },
  {
   "cell_type": "code",
   "execution_count": 41,
   "id": "703dd2da",
   "metadata": {},
   "outputs": [
    {
     "data": {
      "text/html": [
       "<div>\n",
       "<style scoped>\n",
       "    .dataframe tbody tr th:only-of-type {\n",
       "        vertical-align: middle;\n",
       "    }\n",
       "\n",
       "    .dataframe tbody tr th {\n",
       "        vertical-align: top;\n",
       "    }\n",
       "\n",
       "    .dataframe thead th {\n",
       "        text-align: right;\n",
       "    }\n",
       "</style>\n",
       "<table border=\"1\" class=\"dataframe\">\n",
       "  <thead>\n",
       "    <tr style=\"text-align: right;\">\n",
       "      <th></th>\n",
       "      <th>empid</th>\n",
       "      <th>emp_name</th>\n",
       "      <th>sal</th>\n",
       "      <th>des</th>\n",
       "    </tr>\n",
       "  </thead>\n",
       "  <tbody>\n",
       "    <tr>\n",
       "      <th>0</th>\n",
       "      <td>10</td>\n",
       "      <td>hari</td>\n",
       "      <td>10000</td>\n",
       "      <td>sales</td>\n",
       "    </tr>\n",
       "    <tr>\n",
       "      <th>1</th>\n",
       "      <td>20</td>\n",
       "      <td>far</td>\n",
       "      <td>200000</td>\n",
       "      <td>devops</td>\n",
       "    </tr>\n",
       "    <tr>\n",
       "      <th>2</th>\n",
       "      <td>30</td>\n",
       "      <td>kick</td>\n",
       "      <td>300000</td>\n",
       "      <td>cook</td>\n",
       "    </tr>\n",
       "  </tbody>\n",
       "</table>\n",
       "</div>"
      ],
      "text/plain": [
       "   empid emp_name     sal     des\n",
       "0     10     hari   10000   sales\n",
       "1     20      far  200000  devops\n",
       "2     30     kick  300000    cook"
      ]
     },
     "execution_count": 41,
     "metadata": {},
     "output_type": "execute_result"
    }
   ],
   "source": [
    "import pandas as pd\n",
    "dict1={\n",
    "    'empid':[10,20,30],\n",
    "    'emp_name':[\"hari\",'far','kick'],\n",
    "    \"sal\":[10000,200000,300000],\n",
    "    'des':['sales','devops','cook']\n",
    "}\n",
    "df_dict=pd.DataFrame(dict1)\n",
    "df_dict"
   ]
  },
  {
   "cell_type": "markdown",
   "id": "1fb55808",
   "metadata": {},
   "source": [
    "### creating a dataframe using tupple"
   ]
  },
  {
   "cell_type": "code",
   "execution_count": 42,
   "id": "a20f395b",
   "metadata": {},
   "outputs": [],
   "source": [
    "import pandas as pd\n",
    "tup=[(\"HAri\",20,'devlpoper','12-01-2001'),\n",
    "     ('sai',24,'exective','27-03-1997')\n",
    "    ]\n",
    "df_tup=pd.DataFrame(tup,columns=[\"name\",'Age',\"Job\",\"dob\"])"
   ]
  },
  {
   "cell_type": "code",
   "execution_count": 43,
   "id": "2024777d",
   "metadata": {},
   "outputs": [
    {
     "data": {
      "text/html": [
       "<div>\n",
       "<style scoped>\n",
       "    .dataframe tbody tr th:only-of-type {\n",
       "        vertical-align: middle;\n",
       "    }\n",
       "\n",
       "    .dataframe tbody tr th {\n",
       "        vertical-align: top;\n",
       "    }\n",
       "\n",
       "    .dataframe thead th {\n",
       "        text-align: right;\n",
       "    }\n",
       "</style>\n",
       "<table border=\"1\" class=\"dataframe\">\n",
       "  <thead>\n",
       "    <tr style=\"text-align: right;\">\n",
       "      <th></th>\n",
       "      <th>name</th>\n",
       "      <th>Age</th>\n",
       "      <th>Job</th>\n",
       "      <th>dob</th>\n",
       "    </tr>\n",
       "  </thead>\n",
       "  <tbody>\n",
       "    <tr>\n",
       "      <th>0</th>\n",
       "      <td>HAri</td>\n",
       "      <td>20</td>\n",
       "      <td>devlpoper</td>\n",
       "      <td>12-01-2001</td>\n",
       "    </tr>\n",
       "    <tr>\n",
       "      <th>1</th>\n",
       "      <td>sai</td>\n",
       "      <td>24</td>\n",
       "      <td>exective</td>\n",
       "      <td>27-03-1997</td>\n",
       "    </tr>\n",
       "  </tbody>\n",
       "</table>\n",
       "</div>"
      ],
      "text/plain": [
       "   name  Age        Job         dob\n",
       "0  HAri   20  devlpoper  12-01-2001\n",
       "1   sai   24   exective  27-03-1997"
      ]
     },
     "execution_count": 43,
     "metadata": {},
     "output_type": "execute_result"
    }
   ],
   "source": [
    " df_tup"
   ]
  },
  {
   "cell_type": "code",
   "execution_count": null,
   "id": "fe427609",
   "metadata": {},
   "outputs": [],
   "source": []
  },
  {
   "cell_type": "code",
   "execution_count": null,
   "id": "8b59bc95",
   "metadata": {},
   "outputs": [],
   "source": []
  }
 ],
 "metadata": {
  "kernelspec": {
   "display_name": "Python 3 (ipykernel)",
   "language": "python",
   "name": "python3"
  },
  "language_info": {
   "codemirror_mode": {
    "name": "ipython",
    "version": 3
   },
   "file_extension": ".py",
   "mimetype": "text/x-python",
   "name": "python",
   "nbconvert_exporter": "python",
   "pygments_lexer": "ipython3",
   "version": "3.9.12"
  }
 },
 "nbformat": 4,
 "nbformat_minor": 5
}
